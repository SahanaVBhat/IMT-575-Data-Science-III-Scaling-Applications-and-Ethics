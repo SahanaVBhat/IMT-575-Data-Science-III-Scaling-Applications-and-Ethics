{
 "cells": [
  {
   "cell_type": "markdown",
   "metadata": {},
   "source": [
    "# Problem Set 1: Neural Networks\n",
    "#### Submitted by Sahana Bhat\n",
    "\n",
    "### Part 1: Perceptrons by hand"
   ]
  },
  {
   "cell_type": "code",
   "execution_count": 1,
   "metadata": {},
   "outputs": [],
   "source": [
    "import pandas as pd\n",
    "import numpy as np\n",
    "from sklearn import datasets\n",
    "import matplotlib.pyplot as plt\n",
    "import seaborn as sns"
   ]
  },
  {
   "cell_type": "code",
   "execution_count": 2,
   "metadata": {},
   "outputs": [],
   "source": [
    "# function used to plot X values and the line of seperation\n",
    "# this function will be used to plot for all the questions in Part 1\n",
    "def plottingPerceptron(training_set, weights):\n",
    "    plt.figure(0)\n",
    "    # setting X and Y axis values\n",
    "    x1 = [training_set[i][0][0] for i in range(4)]\n",
    "    x2 = [training_set[i][0][1] for i in range(4)]\n",
    "    y = [training_set[i][1] for i in range(4)]\n",
    "    \n",
    "    df = pd.DataFrame(\n",
    "        {'x1': x1,\n",
    "         'x2': x2,\n",
    "         'y': y\n",
    "        })\n",
    "        \n",
    "    sns.lmplot(\"x1\", \"x2\", data=df, hue='y', fit_reg=False, markers=[\"o\", \"s\"])\n",
    "    \n",
    "    # plotting decision boundary\n",
    "    a = [0,-weights[0]/weights[1]]\n",
    "    c = [-weights[0]/weights[2],0]\n",
    "    plt.plot(a,c)"
   ]
  },
  {
   "cell_type": "markdown",
   "metadata": {},
   "source": [
    "#### Question 1:\n",
    "\n",
    "Given: X0 = 1 ; Theta = 0\n",
    "\n",
    "Function: W0X0 + W1X1 + W2X2 >= Theta for activation\n",
    "\n",
    "Substituting values in the equation, we get: \n",
    "\n",
    "W0 + 3W1 + W2 >= 0\n",
    "\n",
    "W0 + W2 >= 0\n",
    "\n",
    "W0 + 3W1 >= 0 \n",
    "\n",
    "W0 <= 0\n",
    "\n",
    "The values for W0, W1, W2 are set such that they fit the above equations :\n",
    "W0 = -0.4 , W1 = 0.3, W2 = 0.6\n",
    "\n",
    "Solving for X1 and X2 using the set weights:\n",
    "\n",
    "-0.4 + 0.3X1 + 0.6X2 >= 0\n",
    "\n",
    "When X1=0, X2 >= 0.4/0.6 ~ 0.66\n",
    "\n",
    "When X2=0, X1 >= 0.4/0.3 ~ 1.33\n"
   ]
  },
  {
   "cell_type": "code",
   "execution_count": 3,
   "metadata": {},
   "outputs": [
    {
     "data": {
      "text/plain": [
       "<Figure size 432x288 with 0 Axes>"
      ]
     },
     "metadata": {},
     "output_type": "display_data"
    },
    {
     "data": {
      "image/png": "[encoded data removed]",
      "text/plain": [
       "<Figure size 402.375x360 with 1 Axes>"
      ]
     },
     "metadata": {
      "needs_background": "light"
     },
     "output_type": "display_data"
    }
   ],
   "source": [
    "# Plotting the input values and seperation line \n",
    "training_set = [((0, 0), 0), ((0, 1), 1), ((3, 0), 1), ((3, 1), 1)]\n",
    "weights = [-0.4,0.3, 0.6]\n",
    "plottingPerceptron(training_set, weights)"
   ]
  },
  {
   "cell_type": "markdown",
   "metadata": {},
   "source": [
    "#### Question 2:\n",
    "\n",
    "When W0 = -1,\n",
    "\n",
    "The equations become:\n",
    "\n",
    "-1 + 3W1 + W2 >= 0\n",
    "\n",
    "-1 + W2 >= 0\n",
    "\n",
    "-1 + 3W1 >= 0\n",
    "\n",
    "Solving for the weights we get:\n",
    "W2 >= 1 and W1 >= 0.33\n"
   ]
  },
  {
   "cell_type": "markdown",
   "metadata": {},
   "source": [
    "#### Question 3:\n",
    "\n",
    "Given: X0 = 1 ; Theta = 0\n",
    "\n",
    "Function: W0X0 + W1X1 + W2X2 >= Theta for activation\n",
    "\n",
    "Substituting values in the equation, we get: \n",
    "\n",
    "W0 + 2W1 + 5W2 >= 0\n",
    "\n",
    "W0 + 2W1 <= 0\n",
    "\n",
    "W0 + 5W2 <= 0 \n",
    "\n",
    "W0 <= 0\n",
    "\n",
    "The values for W0, W1, W2 are set such that they fit the above equations :\n",
    "W0 = -0.4 , W1 = 0.15, W2 = 0.07\n",
    "\n",
    "Solving for X1 and X2 using the set weights:\n",
    "\n",
    "-0.4 + 0.15X1 + 0.07X2 >= 0\n",
    "\n",
    "When X1=0, X2 >= 0.4/0.07 ~ 5.71\n",
    "\n",
    "When X2=0, X1 >= 0.4/0.15 ~ 2.66\n"
   ]
  },
  {
   "cell_type": "code",
   "execution_count": 4,
   "metadata": {},
   "outputs": [
    {
     "data": {
      "text/plain": [
       "<Figure size 432x288 with 0 Axes>"
      ]
     },
     "metadata": {},
     "output_type": "display_data"
    },
    {
     "data": {
      "image/png": "[encoded data removed]",
      "text/plain": [
       "<Figure size 402.375x360 with 1 Axes>"
      ]
     },
     "metadata": {
      "needs_background": "light"
     },
     "output_type": "display_data"
    }
   ],
   "source": [
    "# Plotting the input values and seperation line \n",
    "training_set = [((2, 5), 1), ((2, 0), 0), ((0, 5), 0), ((0, 0), 0)]\n",
    "weights = [-0.4,0.15, 0.07]\n",
    "plottingPerceptron(training_set, weights)"
   ]
  },
  {
   "cell_type": "markdown",
   "metadata": {},
   "source": [
    "#### Question 4:\n",
    "\n",
    "When W0 = -1,\n",
    "\n",
    "The equations become:\n",
    "\n",
    "-1 + 2W1 + 5W2 >= 0\n",
    "\n",
    "-1 + 2W1 <= 0\n",
    "\n",
    "-1 + 5W2 <= 0\n",
    "\n",
    "Solving for the weights we get:\n",
    "W1 >= 0.5 and W2 >= 0.2\n"
   ]
  },
  {
   "cell_type": "markdown",
   "metadata": {},
   "source": [
    "#### Question 5:\n",
    "\n",
    "Given: W1 = W2 = W3 = W4 = 1\n",
    "\n",
    "In an XOR perceptron, the hidden layer consists of a OR and NOT AND perceptron and the last output layer is made of AND gate.\n",
    "\n",
    "Equations: \n",
    "\n",
    "X1W1 + X2W3 >= Theta1\n",
    "\n",
    "X1W2 + X2W4 >= Theta2\n",
    "\n",
    "Theta1 * W5 + Theta2 * W6 >= Theta3\n",
    "\n",
    "#### To calculate Theta1:\n",
    "\n",
    "Considering Theta1 as OR activation :     \n",
    "\n",
    "X1X2Y             \n",
    "\n",
    "0  0  0             \n",
    "\n",
    "0  1  1             \n",
    "\n",
    "1  0  1            \n",
    "\n",
    "1  1  1            \n",
    "\n",
    "Substituting values of X1, X2, W1 and W3 , 0 <= Theta1 <= 1. \n",
    "\n",
    "Let Theta1 = 0.5\n",
    "\n",
    "#### To calculate Theta2:\n",
    "\n",
    "Considering Theta2 as NOT AND activation: To get Theta2 we can negate the threshold value for AND gate. Computing Theta2 for AND gate\n",
    "\n",
    "X1X2Y\n",
    "\n",
    "0  0  0\n",
    "\n",
    "0  1  0\n",
    "\n",
    "1  0  0\n",
    "\n",
    "1  1  1\n",
    "\n",
    "Substituting values of X1, X2, W2 and W4, 1 <= Theta2 <= 2. \n",
    "\n",
    "For the NAND gate, Let Theta2 = -1.5\n",
    "\n",
    "#### To calculate Theta3:\n",
    "\n",
    "Considering Theta3 which is AND activation. Using the previous calculations from Theta2. \n",
    "\n",
    "We get, 1 <= Theta 3 <= 2. \n",
    "\n",
    "For the AND gate, Let Theta3 = 1.5\n",
    "\n",
    "#### To calculate W5 and W6:\n",
    "\n",
    "From AND gate equations: Theta1 * W5 + Theta2 * W6 >= Theta3\n",
    "\n",
    "Substituting values of Theta1, 2 and 3 like X1 and X2 in AND gate, we get:\n",
    "\n",
    "W6 <= 1.5 and W5 <= 1.5\n",
    "\n",
    "0.5 * W5 - 1.5 * W6 >= 1.5\n",
    "\n",
    "From solving the equations, Let W5 = 5.5 and W6 = 0.5\n",
    "\n",
    "\n",
    "\n"
   ]
  },
  {
   "cell_type": "markdown",
   "metadata": {},
   "source": [
    "### Part 2: Rosenblatt's Algorithm"
   ]
  },
  {
   "cell_type": "markdown",
   "metadata": {},
   "source": [
    "#### Question 6:"
   ]
  },
  {
   "cell_type": "code",
   "execution_count": 5,
   "metadata": {},
   "outputs": [
    {
     "data": {
      "image/png": "[encoded data removed]",
      "text/plain": [
       "<Figure size 432x288 with 1 Axes>"
      ]
     },
     "metadata": {
      "needs_background": "light"
     },
     "output_type": "display_data"
    }
   ],
   "source": [
    "from sklearn.datasets import load_boston\n",
    "from sklearn.metrics import accuracy_score\n",
    "\n",
    "boston = load_boston()\n",
    "boston_df = pd.DataFrame(boston.data)\n",
    "boston_df.columns = boston.feature_names\n",
    "boston_df['MEDV'] = boston.target\n",
    "# highPriced variable is created\n",
    "boston_df['highPriced'] = boston_df['MEDV'] > 40 \n",
    "boston_df['highPriced'] = boston_df['highPriced'] * 1\n",
    "# Visualize your splits on an X-Y plane.\n",
    "plt.scatter(boston_df['RM'], boston_df['MEDV'], c=boston_df['highPriced'], label=boston_df['highPriced'])\n",
    "plt.title('Visualization')\n",
    "# RM on X axis\n",
    "plt.xlabel('RM')\n",
    "# LSTAT on Y axis\n",
    "plt.ylabel('MEDV')\n",
    "# Horizontal line representing MEDV = 40\n",
    "plt.axhline(y = 40,color='black')\n",
    "plt.show()\n",
    "\n",
    "# The plot shows that a horizontal line, where MEDV = 40 can be used to seperate classes of highPriced as shown below.\n",
    "# The highPriced values (0,1) are represented with distinct colors (Purple and Yellow)"
   ]
  },
  {
   "cell_type": "markdown",
   "metadata": {},
   "source": [
    "#### Question 7:"
   ]
  },
  {
   "cell_type": "code",
   "execution_count": 6,
   "metadata": {},
   "outputs": [],
   "source": [
    "# creating X and Y \n",
    "X = boston_df[['MEDV', 'RM']].values\n",
    "Y = boston_df['highPriced'].values"
   ]
  },
  {
   "cell_type": "markdown",
   "metadata": {},
   "source": [
    "#### Question 8:"
   ]
  },
  {
   "cell_type": "code",
   "execution_count": 7,
   "metadata": {},
   "outputs": [
    {
     "name": "stdout",
     "output_type": "stream",
     "text": [
      "[[ 1.    24.     6.575]\n",
      " [ 1.    21.6    6.421]\n",
      " [ 1.    34.7    7.185]\n",
      " [ 1.    33.4    6.998]\n",
      " [ 1.    36.2    7.147]]\n"
     ]
    }
   ],
   "source": [
    "# adding column of 1s\n",
    "ones = np.ones((len(X),1))\n",
    "X = np.append(ones,X,1)\n",
    "\n",
    "print(X[:5,:])"
   ]
  },
  {
   "cell_type": "markdown",
   "metadata": {},
   "source": [
    "#### Question 9:"
   ]
  },
  {
   "cell_type": "code",
   "execution_count": 8,
   "metadata": {},
   "outputs": [
    {
     "name": "stdout",
     "output_type": "stream",
     "text": [
      "Step size = 0.05\n",
      "Weights = \n",
      "[0.15416284 0.7400497  0.26331502]\n"
     ]
    }
   ],
   "source": [
    "#setting step and random weights between 0-1\n",
    "np.random.seed(12)\n",
    "step = 0.05\n",
    "print(\"Step size = \"+ str(step))\n",
    "weights = np.random.rand(X.shape[1])\n",
    "print(\"Weights = \")\n",
    "print(weights)"
   ]
  },
  {
   "cell_type": "markdown",
   "metadata": {},
   "source": [
    "The step size was initially set to 0.1 and has been improved to 0.05 for optimized training"
   ]
  },
  {
   "cell_type": "code",
   "execution_count": 9,
   "metadata": {},
   "outputs": [],
   "source": [
    "def sigmoid(x):\n",
    "    return 1/(1+np.exp(-x))"
   ]
  },
  {
   "cell_type": "code",
   "execution_count": 10,
   "metadata": {},
   "outputs": [],
   "source": [
    "def sigmoid_der(x):\n",
    "    return sigmoid(x)*(1-sigmoid(x))"
   ]
  },
  {
   "cell_type": "markdown",
   "metadata": {},
   "source": [
    "#### Question 10:"
   ]
  },
  {
   "cell_type": "code",
   "execution_count": 11,
   "metadata": {},
   "outputs": [],
   "source": [
    "def myPerceptron(X,Y,step,weights): \n",
    "    # To get predicted values\n",
    "    value = np.dot(X, weights)\n",
    "    # setting predicted values in range 0-1\n",
    "    y_predicted = sigmoid(value)\n",
    "    error = y_predicted - Y\n",
    "    # to find number of errors in prediction\n",
    "    sum_error = sum(abs(error.round()))\n",
    "    \n",
    "    # To update weights\n",
    "    temp_bias = weights[0]\n",
    "    weights -= step * np.dot(X.T, error)\n",
    "    weights[0] = temp_bias - sum(error) * step\n",
    "    \n",
    "    return weights, sum_error"
   ]
  },
  {
   "cell_type": "code",
   "execution_count": 12,
   "metadata": {},
   "outputs": [],
   "source": [
    "# myperceptron function with gradient descent\n",
    "def myPerceptronWithGradientDescent(X,Y,step,weights): \n",
    "    # To get predicted values\n",
    "    value = np.dot(X, weights)\n",
    "    # setting predicted values in range 0-1\n",
    "    y_predicted = sigmoid(value)\n",
    "    error = y_predicted - Y\n",
    "    # to find number of errors in prediction\n",
    "    sum_error = sum(abs(error.round()))\n",
    "    \n",
    "    # Here the derivate of cost or error is used to update values of weights\n",
    "    derivativeOfPredictedValue = sigmoid_der(y_predicted)\n",
    "    derivativeOfError = error * derivativeOfPredictedValue\n",
    "    \n",
    "    # To update weights\n",
    "    temp_bias = weights[0]\n",
    "    weights -= step * np.dot(X.T, derivativeOfError)\n",
    "    weights[0] = temp_bias - sum(derivativeOfError)* step\n",
    "    \n",
    "    return weights, sum_error"
   ]
  },
  {
   "cell_type": "markdown",
   "metadata": {},
   "source": [
    "#### Question 11:"
   ]
  },
  {
   "cell_type": "code",
   "execution_count": 13,
   "metadata": {},
   "outputs": [],
   "source": [
    "# using myPerceptron to train the neural network\n",
    "iter_count = 0\n",
    "sum_error = 999999\n",
    "error_list = []\n",
    "while sum_error>0:\n",
    "    weights, sum_error = myPerceptron(X,Y,step,weights)\n",
    "    iter_count+=1\n",
    "    error_list.append(sum_error)"
   ]
  },
  {
   "cell_type": "code",
   "execution_count": 14,
   "metadata": {},
   "outputs": [
    {
     "data": {
      "text/plain": [
       "[<matplotlib.lines.Line2D at 0x14f72c75b88>]"
      ]
     },
     "execution_count": 14,
     "metadata": {},
     "output_type": "execute_result"
    },
    {
     "data": {
      "image/png": "[encoded data removed]",
      "text/plain": [
       "<Figure size 432x288 with 1 Axes>"
      ]
     },
     "metadata": {
      "needs_background": "light"
     },
     "output_type": "display_data"
    }
   ],
   "source": [
    "# Plotting Errors vs iterations\n",
    "plt.plot(error_list)"
   ]
  },
  {
   "cell_type": "code",
   "execution_count": 15,
   "metadata": {},
   "outputs": [
    {
     "name": "stdout",
     "output_type": "stream",
     "text": [
      "Iterations to converge = 29700\n"
     ]
    }
   ],
   "source": [
    "print(\"Iterations to converge = \" + str(iter_count))"
   ]
  },
  {
   "cell_type": "markdown",
   "metadata": {},
   "source": [
    "Gradient Descent is an optimization technique that is used to improve deep learning and neural network-based models by minimizing the cost function. We use gradient descent to minimize the cost function, J(w). The weights are updated using derivative of the errors. To implement and verify, I have written the function \"myPerceptronWithGradientDescent\". The plot of errors obtained using this function was similar and the function took lesser iterations to converge. At the same time, if the learning rate is set very high, gradient descent can take more time to converge. Hence, the gadient descent model is more complex than the usual model."
   ]
  },
  {
   "cell_type": "markdown",
   "metadata": {},
   "source": [
    "#### Question 12:"
   ]
  },
  {
   "cell_type": "code",
   "execution_count": 16,
   "metadata": {},
   "outputs": [
    {
     "data": {
      "image/png": "[encoded data removed]",
      "text/plain": [
       "<Figure size 432x288 with 1 Axes>"
      ]
     },
     "metadata": {
      "needs_background": "light"
     },
     "output_type": "display_data"
    }
   ],
   "source": [
    "# to calculate slope and y-intercept of the line\n",
    "m = - weights / weights[1]\n",
    "plt.scatter(X[:,2],X[:,1], c=Y)\n",
    "# plotting the separation line \n",
    "plt.plot(X[:,2], m[2]*X[:,2]+m[0])\n",
    "plt.title('Visualization')\n",
    "# RM on X axis\n",
    "plt.xlabel('RM')\n",
    "# LSTAT on Y axis\n",
    "plt.ylabel('MEDV')\n",
    "plt.show()"
   ]
  },
  {
   "cell_type": "markdown",
   "metadata": {},
   "source": [
    "In the visualization, we see that the seperation line splits the True and False values perfectly. But at the same time, the line has been trained for the given training set. I feel the line is overfitting and may not work well for a test set."
   ]
  },
  {
   "cell_type": "markdown",
   "metadata": {},
   "source": [
    "### Part 3: Out-of-the-box Neural Networks"
   ]
  },
  {
   "cell_type": "markdown",
   "metadata": {},
   "source": [
    "#### Question 14:"
   ]
  },
  {
   "cell_type": "code",
   "execution_count": 17,
   "metadata": {},
   "outputs": [],
   "source": [
    "from sklearn.model_selection import train_test_split\n",
    "from sklearn.metrics import mean_squared_error\n",
    "from math import sqrt\n",
    "from sklearn.metrics import r2_score"
   ]
  },
  {
   "cell_type": "code",
   "execution_count": 18,
   "metadata": {},
   "outputs": [],
   "source": [
    "boston_dataset = pd.DataFrame(boston.data)\n",
    "boston_dataset.columns = boston.feature_names\n",
    "X = boston_dataset.values\n",
    "y = boston.target"
   ]
  },
  {
   "cell_type": "code",
   "execution_count": 19,
   "metadata": {},
   "outputs": [],
   "source": [
    "# Use 80% of observations for the training set and 20% for the test set\n",
    "X_train, X_test, y_train, y_test = train_test_split(X, y, test_size=0.20, random_state=40)\n"
   ]
  },
  {
   "cell_type": "code",
   "execution_count": 20,
   "metadata": {},
   "outputs": [
    {
     "name": "stdout",
     "output_type": "stream",
     "text": [
      "Shape of Training set = (404, 13)\n",
      "Shape of Test set = (102, 13)\n"
     ]
    }
   ],
   "source": [
    "print(\"Shape of Training set = \" + str(X_train.shape))\n",
    "\n",
    "print(\"Shape of Test set = \" + str(X_test.shape))"
   ]
  },
  {
   "cell_type": "markdown",
   "metadata": {},
   "source": [
    "#### Question 15:"
   ]
  },
  {
   "cell_type": "code",
   "execution_count": 21,
   "metadata": {},
   "outputs": [],
   "source": [
    "from sklearn.neural_network import MLPRegressor\n",
    "\n",
    "# the function builts MLPRegressor model for given hidden layer size and max number of iterations\n",
    "# returns training set and test set MAE values\n",
    "def comparingModels(layer_size, iter_count=1000):\n",
    "    mlp = MLPRegressor(hidden_layer_sizes=layer_size, max_iter=iter_count)\n",
    "    mlp.fit(X_train,y_train)\n",
    "    predict_train = mlp.predict(X_train)\n",
    "    predict_test = mlp.predict(X_test)\n",
    "    train_mae = sum(abs(y_train-predict_train))/len(y_train)\n",
    "    test_mae = sum(abs(y_test-predict_test))/len(y_test)\n",
    "    return train_mae,test_mae"
   ]
  },
  {
   "cell_type": "code",
   "execution_count": 22,
   "metadata": {},
   "outputs": [
    {
     "name": "stderr",
     "output_type": "stream",
     "text": [
      "C:\\Users\\sahan\\Anaconda3\\lib\\site-packages\\sklearn\\neural_network\\multilayer_perceptron.py:566: ConvergenceWarning: Stochastic Optimizer: Maximum iterations (1000) reached and the optimization hasn't converged yet.\n",
      "  % self.max_iter, ConvergenceWarning)\n"
     ]
    },
    {
     "name": "stdout",
     "output_type": "stream",
     "text": [
      "List of training set MAE obtained\n",
      "[18.435087505848855, 4.10452096345912, 4.395721752564787, 4.491659666682684, 4.457526702732839]\n",
      "List of testing set MAE obtained\n",
      "[17.64128533151379, 4.975572370599978, 5.05436958595006, 5.113822731805863, 4.808456909468084]\n"
     ]
    }
   ],
   "source": [
    "hidden_layer_list = [2, 5, 10, 20, 50]\n",
    "train_mae_list = []\n",
    "test_mae_list = []\n",
    "for x in hidden_layer_list:\n",
    "    train_mae,test_mae = comparingModels(x, 1000)\n",
    "    train_mae_list.append(train_mae)\n",
    "    test_mae_list.append(test_mae)  \n",
    "print(\"List of training set MAE obtained\")\n",
    "print(train_mae_list)\n",
    "print(\"List of testing set MAE obtained\")\n",
    "print(test_mae_list)"
   ]
  },
  {
   "cell_type": "markdown",
   "metadata": {},
   "source": [
    "Here, MAE is used to compare models based on their hidden layer size.\n",
    "The mean absolute error (MAE) is the simplest regression error metric to understand. We calculate the residual for every data point, taking only the absolute value of each so that negative and positive residuals do not cancel out. We then take the average of all these residuals. Effectively, MAE describes the typical magnitude of the residuals.\n",
    "\n",
    "From the MAE values obtained, we see that the errors in the training set are lesser than in the test set. But they are very close, which shows that the model is not overfittig or biased. "
   ]
  },
  {
   "cell_type": "markdown",
   "metadata": {},
   "source": [
    "#### Question 16:"
   ]
  },
  {
   "cell_type": "code",
   "execution_count": 23,
   "metadata": {},
   "outputs": [
    {
     "name": "stderr",
     "output_type": "stream",
     "text": [
      "C:\\Users\\sahan\\Anaconda3\\lib\\site-packages\\sklearn\\neural_network\\multilayer_perceptron.py:566: ConvergenceWarning: Stochastic Optimizer: Maximum iterations (1000) reached and the optimization hasn't converged yet.\n",
      "  % self.max_iter, ConvergenceWarning)\n"
     ]
    },
    {
     "name": "stdout",
     "output_type": "stream",
     "text": [
      "List of training set MAE obtained\n",
      "[9.413011386364836, 4.88945937508515, 5.806129023993118, 4.992066363173651, 4.669751367665507]\n",
      "List of testing set MAE obtained\n",
      "[9.407999879814076, 5.759112737690163, 6.937767504081405, 5.776748783357536, 5.987896827392812]\n"
     ]
    }
   ],
   "source": [
    "hidden_layer_list = [(2, 2), (5, 5), (10, 10), (20, 20), (50, 50)]\n",
    "train_mae_list = []\n",
    "test_mae_list = []\n",
    "for x in hidden_layer_list:\n",
    "    train_mae,test_mae = comparingModels(x, 1000)\n",
    "    train_mae_list.append(train_mae)\n",
    "    test_mae_list.append(test_mae)  \n",
    "print(\"List of training set MAE obtained\")\n",
    "print(train_mae_list)\n",
    "print(\"List of testing set MAE obtained\")\n",
    "print(test_mae_list)"
   ]
  },
  {
   "cell_type": "markdown",
   "metadata": {},
   "source": [
    "Here the we do not see much change in the Test and Train MAE values from that in Question 15. This explains how including more hidden layers is not impriving the models. In artificial neural networks, hidden layers are required if and only if the data must be separated non-linearly. Increasing the number of hidden layers increases the complexity and the model takes more time to converge."
   ]
  },
  {
   "cell_type": "markdown",
   "metadata": {},
   "source": [
    "#### Question 17:"
   ]
  },
  {
   "cell_type": "markdown",
   "metadata": {},
   "source": [
    "#### Designing the architecture:\n",
    "To design the architecture of the NN model, many criterias are involved such:\n",
    "Number of Hidden layers, Number of Neurons in Hidden layers, Max iteration counts, \n",
    "Activation function, solver function to weight optimization, initial learning rate, random state.\n",
    "Deciding on the number of Hidden layers and their sizes is very complicated. \n",
    " \n",
    "There are many rule-of-thumb methods for determining an acceptable number of neurons to use in the hidden layers, such as the following:\n",
    "\n",
    "1. The number of hidden neurons should be between the size of the input layer and the size of the output layer.\n",
    "2. The number of hidden neurons should be 2/3 the size of the input layer, plus the size of the output layer.\n",
    "3. The number of hidden neurons should be less than twice the size of the input layer.\n",
    "4. There's a rule of thumb that helps for supervised learning problems. You can usually prevent over-fitting if you keep your number of neurons below:\n",
    "\n",
    "Nh=Ns/(α∗(Ni+No))\n",
    "\n",
    "Ni = number of input neurons.\n",
    "No = number of output neurons.\n",
    "Ns = number of samples in training data set.\n",
    "α = an arbitrary scaling factor usually 2-10.\n",
    "\n",
    "Others recommend setting alpha to a value between 5 and 10, but I find a value of 2 will often work without overfitting. You can think of alpha as the effective branching factor or number of nonzero weights for each neuron. Dropout layers will bring the \"effective\" branching factor way down from the actual mean branching factor for your network.\n",
    "\n",
    "Number of Hidden Layers and what they can achieve:\n",
    "\n",
    "0 - Only capable of representing linear separable functions or decisions.\n",
    "\n",
    "1 - Can approximate any function that contains a continuous mapping from one finite space to another.\n",
    "\n",
    "2 - Can represent an arbitrary decision boundary to arbitrary accuracy with rational activation functions and can approximate any smooth mapping to any accuracy.\n",
    "\n",
    "More than 2 - Additional layers can learn complex representations (sort of automatic feature engineering) for layer layers."
   ]
  },
  {
   "cell_type": "markdown",
   "metadata": {},
   "source": [
    "#### Design Process:\n",
    "Using the formula mentioned above, the hidden layer sizes are obtained as 36 and 3. I have chosen 2 hidden layers which provide an otimized model with lesser Mean Average Errors. Increasing the number of max iteractions provides more chances of convergence. "
   ]
  },
  {
   "cell_type": "code",
   "execution_count": 444,
   "metadata": {},
   "outputs": [
    {
     "data": {
      "text/plain": [
       "(3.765754874594174, 4.387899321480355)"
      ]
     },
     "execution_count": 444,
     "metadata": {},
     "output_type": "execute_result"
    }
   ],
   "source": [
    "train_mae,test_mae = comparingModels((36,3), 4000)\n",
    "train_mae,test_mae"
   ]
  }
 ],
 "metadata": {
  "kernelspec": {
   "display_name": "Python 3",
   "language": "python",
   "name": "python3"
  },
  "language_info": {
   "codemirror_mode": {
    "name": "ipython",
    "version": 3
   },
   "file_extension": ".py",
   "mimetype": "text/x-python",
   "name": "python",
   "nbconvert_exporter": "python",
   "pygments_lexer": "ipython3",
   "version": "3.7.4"
  }
 },
 "nbformat": 4,
 "nbformat_minor": 2
}
