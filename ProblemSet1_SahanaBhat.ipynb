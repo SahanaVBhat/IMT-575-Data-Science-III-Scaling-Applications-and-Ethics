{
 "cells": [
  {
   "cell_type": "markdown",
   "metadata": {},
   "source": [
    "# Problem Set 1: Trees\n",
    "#### Submitted by Sahana Bhat\n",
    "\n",
    "### Part 1: Creating helper functions"
   ]
  },
  {
   "cell_type": "code",
   "execution_count": 138,
   "metadata": {},
   "outputs": [],
   "source": [
    "import pandas as pd\n",
    "import numpy as np\n",
    "import matplotlib.pyplot as plt"
   ]
  },
  {
   "cell_type": "code",
   "execution_count": 139,
   "metadata": {},
   "outputs": [
    {
     "data": {
      "text/html": [
       "<div>\n",
       "<style scoped>\n",
       "    .dataframe tbody tr th:only-of-type {\n",
       "        vertical-align: middle;\n",
       "    }\n",
       "\n",
       "    .dataframe tbody tr th {\n",
       "        vertical-align: top;\n",
       "    }\n",
       "\n",
       "    .dataframe thead th {\n",
       "        text-align: right;\n",
       "    }\n",
       "</style>\n",
       "<table border=\"1\" class=\"dataframe\">\n",
       "  <thead>\n",
       "    <tr style=\"text-align: right;\">\n",
       "      <th></th>\n",
       "      <th>Variable A</th>\n",
       "      <th>Variable B</th>\n",
       "      <th>Variable C</th>\n",
       "      <th>Output</th>\n",
       "    </tr>\n",
       "  </thead>\n",
       "  <tbody>\n",
       "    <tr>\n",
       "      <td>0</td>\n",
       "      <td>Yes</td>\n",
       "      <td>On</td>\n",
       "      <td>High</td>\n",
       "      <td>Red</td>\n",
       "    </tr>\n",
       "    <tr>\n",
       "      <td>1</td>\n",
       "      <td>No</td>\n",
       "      <td>Off</td>\n",
       "      <td>Low</td>\n",
       "      <td>Blue</td>\n",
       "    </tr>\n",
       "    <tr>\n",
       "      <td>2</td>\n",
       "      <td>Yes</td>\n",
       "      <td>On</td>\n",
       "      <td>High</td>\n",
       "      <td>Red</td>\n",
       "    </tr>\n",
       "    <tr>\n",
       "      <td>3</td>\n",
       "      <td>Yes</td>\n",
       "      <td>Off</td>\n",
       "      <td>High</td>\n",
       "      <td>Red</td>\n",
       "    </tr>\n",
       "    <tr>\n",
       "      <td>4</td>\n",
       "      <td>No</td>\n",
       "      <td>On</td>\n",
       "      <td>High</td>\n",
       "      <td>Blue</td>\n",
       "    </tr>\n",
       "    <tr>\n",
       "      <td>5</td>\n",
       "      <td>Yes</td>\n",
       "      <td>On</td>\n",
       "      <td>Low</td>\n",
       "      <td>Blue</td>\n",
       "    </tr>\n",
       "    <tr>\n",
       "      <td>6</td>\n",
       "      <td>No</td>\n",
       "      <td>Off</td>\n",
       "      <td>High</td>\n",
       "      <td>Blue</td>\n",
       "    </tr>\n",
       "    <tr>\n",
       "      <td>7</td>\n",
       "      <td>No</td>\n",
       "      <td>On</td>\n",
       "      <td>High</td>\n",
       "      <td>Blue</td>\n",
       "    </tr>\n",
       "    <tr>\n",
       "      <td>8</td>\n",
       "      <td>Yes</td>\n",
       "      <td>On</td>\n",
       "      <td>Low</td>\n",
       "      <td>Blue</td>\n",
       "    </tr>\n",
       "    <tr>\n",
       "      <td>9</td>\n",
       "      <td>Yes</td>\n",
       "      <td>Off</td>\n",
       "      <td>High</td>\n",
       "      <td>Red</td>\n",
       "    </tr>\n",
       "  </tbody>\n",
       "</table>\n",
       "</div>"
      ],
      "text/plain": [
       "  Variable A Variable B Variable C Output\n",
       "0        Yes         On       High    Red\n",
       "1         No        Off        Low   Blue\n",
       "2        Yes         On       High    Red\n",
       "3        Yes        Off       High    Red\n",
       "4         No         On       High   Blue\n",
       "5        Yes         On        Low   Blue\n",
       "6         No        Off       High   Blue\n",
       "7         No         On       High   Blue\n",
       "8        Yes         On        Low   Blue\n",
       "9        Yes        Off       High    Red"
      ]
     },
     "execution_count": 139,
     "metadata": {},
     "output_type": "execute_result"
    }
   ],
   "source": [
    "toyData = pd.read_csv('toyData.csv')\n",
    "toyData"
   ]
  },
  {
   "cell_type": "code",
   "execution_count": 140,
   "metadata": {},
   "outputs": [],
   "source": [
    "def calcGini(a, b):\n",
    "    probOne = a / (a + b)\n",
    "    probTwo = b / (a + b)\n",
    "    Gini = 1 - (np.square(probOne) + np.square(probTwo)) \n",
    "    return Gini"
   ]
  },
  {
   "cell_type": "code",
   "execution_count": 141,
   "metadata": {},
   "outputs": [],
   "source": [
    "def calcEntropy(a, b):\n",
    "    probOne = a / (a + b)\n",
    "    probTwo = b / (a + b)\n",
    "    Entropy = (-probOne * np.log2(probOne)) - (probTwo * np.log2(probTwo))\n",
    "    if np.isnan(Entropy):\n",
    "        return 0\n",
    "    return Entropy"
   ]
  },
  {
   "cell_type": "code",
   "execution_count": 142,
   "metadata": {},
   "outputs": [],
   "source": [
    "def weightedSumGini(weights,gini):\n",
    "    probClass1 = weights[0]/(weights[0]+weights[1])\n",
    "    probClass2 = weights[1]/(weights[0]+weights[1])\n",
    "    WeightedGini = (probClass1 * gini[0] + probClass2 * gini[1])\n",
    "    return WeightedGini"
   ]
  },
  {
   "cell_type": "code",
   "execution_count": 143,
   "metadata": {},
   "outputs": [],
   "source": [
    "# calculating Information Gain\n",
    "def weightedSumEntropy(weights,entropy,MaxEntropy):\n",
    "    probClass1 = weights[0]/(weights[0]+weights[1])\n",
    "    probClass2 = weights[1]/(weights[0]+weights[1])\n",
    "    weightedEntropy = MaxEntropy - (probClass1 * entropy[0] + probClass2 * entropy[1])\n",
    "    return weightedEntropy"
   ]
  },
  {
   "cell_type": "code",
   "execution_count": 144,
   "metadata": {},
   "outputs": [],
   "source": [
    "# Entropy of Parent\n",
    "def calcMaxEntropy(target_column_name, dataset):\n",
    "    MaxEntropy = 0\n",
    "    total_length = len(dataset[target_column_name])\n",
    "    target = dataset[target_column_name]\n",
    "    uniqueVals = target.unique()\n",
    "    for val in uniqueVals: \n",
    "        count = len(dataset[dataset[target_column_name] == val])\n",
    "        if count is not 0:\n",
    "            MaxEntropy = MaxEntropy - ((count / total_length) * np.log2(count / total_length)) \n",
    "    return MaxEntropy"
   ]
  },
  {
   "cell_type": "code",
   "execution_count": 145,
   "metadata": {},
   "outputs": [
    {
     "name": "stderr",
     "output_type": "stream",
     "text": [
      "C:\\Users\\sahan\\Anaconda3\\lib\\site-packages\\ipykernel_launcher.py:4: RuntimeWarning: divide by zero encountered in log2\n",
      "  after removing the cwd from sys.path.\n",
      "C:\\Users\\sahan\\Anaconda3\\lib\\site-packages\\ipykernel_launcher.py:4: RuntimeWarning: invalid value encountered in double_scalars\n",
      "  after removing the cwd from sys.path.\n"
     ]
    }
   ],
   "source": [
    "cols = toyData.columns[:3]\n",
    "calcWeightedGini = []\n",
    "calcWeightedEntropy = []\n",
    "\n",
    "for col in cols:\n",
    "    current = toyData[col]\n",
    "    uniqueVals = current.unique()\n",
    "    gini = []\n",
    "    entropy = []\n",
    "    weights = []\n",
    "    for val in uniqueVals:\n",
    "        currentDf = toyData[toyData[col] == val]\n",
    "        reds = len(currentDf[currentDf['Output'] == 'Red'])\n",
    "        blues = len(currentDf[currentDf['Output'] == 'Blue'])\n",
    "        gini.append(calcGini(reds, blues))\n",
    "        entropy.append(calcEntropy(reds, blues))\n",
    "        weights.append(len(currentDf))\n",
    "    #print(gini)\n",
    "    #print(entropy)\n",
    "    #print(weights)\n",
    "    #calcweighted sum of gini\n",
    "    calcWeightedGini.append(weightedSumGini(weights,gini))\n",
    "    #calcweighted sum of entropy\n",
    "    MaxEntropy = calcMaxEntropy('Output', toyData)\n",
    "    calcWeightedEntropy.append(weightedSumEntropy(weights,entropy,MaxEntropy))\n",
    "#print(calcWeightedGini)\n",
    "#print(calcWeightedEntropy)"
   ]
  },
  {
   "cell_type": "markdown",
   "metadata": {},
   "source": [
    "### Part 2: Building trees"
   ]
  },
  {
   "cell_type": "code",
   "execution_count": 146,
   "metadata": {},
   "outputs": [
    {
     "name": "stdout",
     "output_type": "stream",
     "text": [
      "      CRIM    ZN  INDUS  CHAS    NOX     RM   AGE     DIS  RAD    TAX  \\\n",
      "0  0.00632  18.0   2.31   0.0  0.538  6.575  65.2  4.0900  1.0  296.0   \n",
      "1  0.02731   0.0   7.07   0.0  0.469  6.421  78.9  4.9671  2.0  242.0   \n",
      "2  0.02729   0.0   7.07   0.0  0.469  7.185  61.1  4.9671  2.0  242.0   \n",
      "3  0.03237   0.0   2.18   0.0  0.458  6.998  45.8  6.0622  3.0  222.0   \n",
      "4  0.06905   0.0   2.18   0.0  0.458  7.147  54.2  6.0622  3.0  222.0   \n",
      "\n",
      "   PTRATIO       B  LSTAT  MEDV  highPriced  \n",
      "0     15.3  396.90   4.98  24.0       False  \n",
      "1     17.8  396.90   9.14  21.6       False  \n",
      "2     17.8  392.83   4.03  34.7       False  \n",
      "3     18.7  394.63   2.94  33.4       False  \n",
      "4     18.7  396.90   5.33  36.2        True  \n",
      "Index(['CRIM', 'ZN', 'INDUS', 'CHAS', 'NOX', 'RM', 'AGE', 'DIS', 'RAD', 'TAX',\n",
      "       'PTRATIO', 'B', 'LSTAT', 'MEDV', 'highPriced'],\n",
      "      dtype='object')\n"
     ]
    },
    {
     "data": {
      "text/plain": [
       "count       506\n",
       "unique        2\n",
       "top       False\n",
       "freq        458\n",
       "Name: highPriced, dtype: object"
      ]
     },
     "execution_count": 146,
     "metadata": {},
     "output_type": "execute_result"
    }
   ],
   "source": [
    "from sklearn.datasets import load_boston\n",
    "from sklearn.metrics import accuracy_score\n",
    "\n",
    "boston = load_boston()\n",
    "boston_df = pd.DataFrame(boston.data)\n",
    "boston_df.columns = boston.feature_names\n",
    "boston_df['MEDV'] = boston.target\n",
    "# highPriced variable is created\n",
    "boston_df['highPriced'] = boston_df['MEDV'] > 35\n",
    "print(boston_df.head())\n",
    "print(boston_df.columns)\n",
    "boston_df['highPriced'].describe()\n",
    "# the highPriced variables consists of two unique value [True,False] \n",
    "# the frequency of False is higher and is 458 out of the total = 506 observations\n",
    "# this shows that, majority of the houses have Median home value less than $35K"
   ]
  },
  {
   "cell_type": "code",
   "execution_count": 147,
   "metadata": {},
   "outputs": [],
   "source": [
    "# to split dataset based on the best split value identified into left and right sub sets\n",
    "def test_split(column_name, value, dataset):\n",
    "    left, right = list(), list()\n",
    "    left = dataset[dataset[column_name] < value]\n",
    "    right = dataset[dataset[column_name] > value]\n",
    "    return left, right"
   ]
  },
  {
   "cell_type": "code",
   "execution_count": 148,
   "metadata": {},
   "outputs": [],
   "source": [
    "# to identify the split value, Weighted Gini Impurity and Information Gain for a given dataset\n",
    "def get_split(column_name, dataset):\n",
    "    WeightedGini = []\n",
    "    WeightedEntropy = []\n",
    "    split_values = []\n",
    "    \n",
    "    for value in sorted(dataset[column_name]):\n",
    "        gini = []\n",
    "        entropy = []\n",
    "        weights = []\n",
    "        \n",
    "        left,right = test_split(column_name, value, dataset)\n",
    "            \n",
    "        weights.append(len(left))\n",
    "        weights.append(len(right))\n",
    "        \n",
    "        Left_T = len(left[left['highPriced'] == True])\n",
    "        Left_F = len(left[left['highPriced'] == False])\n",
    "        if Left_T is 0 and Left_F is 0:\n",
    "            continue\n",
    "        gini.append(calcGini(Left_T, Left_F))\n",
    "        entropy.append(calcEntropy(Left_T, Left_F))\n",
    "        \n",
    "        Right_T = len(right[right['highPriced'] == True])\n",
    "        Right_F = len(right[right['highPriced'] == False])\n",
    "        if Right_T is 0 and Right_F is 0:\n",
    "            continue\n",
    "        gini.append(calcGini(Right_T, Right_F))\n",
    "        entropy.append(calcEntropy(Right_T, Right_F))\n",
    "        \n",
    "        WeightedGini.append(weightedSumGini(weights,gini))\n",
    "        \n",
    "        MaxEntropy = calcMaxEntropy('highPriced', boston_df)\n",
    "       \n",
    "        WeightedEntropy.append(weightedSumEntropy(weights,entropy,MaxEntropy))\n",
    "        split_values.append(value)\n",
    "    \n",
    "    return split_values, WeightedGini, WeightedEntropy\n",
    "    \n",
    "    "
   ]
  },
  {
   "cell_type": "code",
   "execution_count": 149,
   "metadata": {},
   "outputs": [
    {
     "name": "stderr",
     "output_type": "stream",
     "text": [
      "C:\\Users\\sahan\\Anaconda3\\lib\\site-packages\\ipykernel_launcher.py:4: RuntimeWarning: divide by zero encountered in log2\n",
      "  after removing the cwd from sys.path.\n",
      "C:\\Users\\sahan\\Anaconda3\\lib\\site-packages\\ipykernel_launcher.py:4: RuntimeWarning: invalid value encountered in double_scalars\n",
      "  after removing the cwd from sys.path.\n"
     ]
    }
   ],
   "source": [
    "# to find the split along the AGE variable \n",
    "split_values, WeightedGini, WeightedEntropy = get_split('AGE',boston_df)"
   ]
  },
  {
   "cell_type": "code",
   "execution_count": 150,
   "metadata": {},
   "outputs": [],
   "source": [
    "df = pd.DataFrame({'split_values':split_values, 'WeightedGini': WeightedGini, 'WeightedEntropy': WeightedEntropy})"
   ]
  },
  {
   "cell_type": "code",
   "execution_count": 151,
   "metadata": {},
   "outputs": [
    {
     "name": "stdout",
     "output_type": "stream",
     "text": [
      "    split_values  WeightedGini  WeightedEntropy\n",
      "98          37.2      0.167675         0.010283\n",
      "    split_values  WeightedGini  WeightedEntropy\n",
      "98          37.2      0.167675         0.010283\n"
     ]
    }
   ],
   "source": [
    "# Finding best split values for AGE:\n",
    "# based on Gini Impurity \n",
    "print(df[df['WeightedGini']==min(WeightedGini)])\n",
    "# based on Information gain or Entropy\n",
    "print(df[df['WeightedEntropy']==max(WeightedEntropy)])\n",
    "# This shows that the best split points are the same i.e AGE = 37.2"
   ]
  },
  {
   "cell_type": "code",
   "execution_count": 152,
   "metadata": {},
   "outputs": [],
   "source": [
    "#Performing the same calculation considering CRIM variable"
   ]
  },
  {
   "cell_type": "code",
   "execution_count": 153,
   "metadata": {
    "scrolled": true
   },
   "outputs": [
    {
     "name": "stderr",
     "output_type": "stream",
     "text": [
      "C:\\Users\\sahan\\Anaconda3\\lib\\site-packages\\ipykernel_launcher.py:4: RuntimeWarning: divide by zero encountered in log2\n",
      "  after removing the cwd from sys.path.\n",
      "C:\\Users\\sahan\\Anaconda3\\lib\\site-packages\\ipykernel_launcher.py:4: RuntimeWarning: invalid value encountered in double_scalars\n",
      "  after removing the cwd from sys.path.\n"
     ]
    }
   ],
   "source": [
    "split_values2, WeightedGini2, WeightedEntropy2 = get_split('CRIM',boston_df)"
   ]
  },
  {
   "cell_type": "code",
   "execution_count": 154,
   "metadata": {},
   "outputs": [],
   "source": [
    "df2 = pd.DataFrame({'split_values':split_values2, 'WeightedGini': WeightedGini2, 'WeightedEntropy': WeightedEntropy2})"
   ]
  },
  {
   "cell_type": "code",
   "execution_count": 155,
   "metadata": {},
   "outputs": [
    {
     "name": "stdout",
     "output_type": "stream",
     "text": [
      "     split_values  WeightedGini  WeightedEntropy\n",
      "355       2.01019       0.16585         0.020908\n",
      "     split_values  WeightedGini  WeightedEntropy\n",
      "440        9.2323      0.166301         0.025027\n"
     ]
    }
   ],
   "source": [
    "# Finding best split values for CRIM:\n",
    "# based on Gini Impurity is 2\n",
    "print(df2[df2['WeightedGini']==min(WeightedGini2)])\n",
    "# based on Information gain or Entropy is 9.2\n",
    "print(df2[df2['WeightedEntropy']==max(WeightedEntropy2)])\n",
    "# The best split points are NOT the same. "
   ]
  },
  {
   "cell_type": "code",
   "execution_count": 156,
   "metadata": {},
   "outputs": [],
   "source": [
    "from sklearn.tree import DecisionTreeClassifier # Import Decision Tree Classifier\n",
    "from sklearn.model_selection import train_test_split # Import train_test_split function\n",
    "from sklearn import metrics #Import scikit-learn metrics module for accuracy calculation\n",
    "from sklearn import tree\n",
    "from sklearn.tree.export import export_text\n",
    "from sklearn.metrics import classification_report"
   ]
  },
  {
   "cell_type": "code",
   "execution_count": 157,
   "metadata": {},
   "outputs": [
    {
     "name": "stdout",
     "output_type": "stream",
     "text": [
      "|--- AGE <= 37.25\n",
      "|   |--- AGE <= 36.85\n",
      "|   |   |--- class: False\n",
      "|   |--- AGE >  36.85\n",
      "|   |   |--- class: True\n",
      "|--- AGE >  37.25\n",
      "|   |--- AGE <= 49.50\n",
      "|   |   |--- class: False\n",
      "|   |--- AGE >  49.50\n",
      "|   |   |--- class: False\n",
      "\n"
     ]
    }
   ],
   "source": [
    "# To find optimal split based on AGE using sklearn's DecisionTreeClassifier\n",
    "\n",
    "feature_cols = ['AGE']\n",
    "X = boston_df[feature_cols]\n",
    "y = boston_df['highPriced']\n",
    "\n",
    "# Decision Tree classifer model\n",
    "decision_tree = tree.DecisionTreeClassifier(criterion = 'entropy', max_depth=2)\n",
    "clf = decision_tree.fit(X,y)\n",
    "r = export_text(clf, feature_names=feature_cols)\n",
    "print(r)\n",
    "\n",
    "# The optimal split value is found using the DecisionTreeClassifier is 37.25. \n",
    "# The optimal split found using get_split() method is 37.2.\n",
    "# In the function, we are verifing each value in the AGE parameter.\n",
    "# Which means we are not including the terms in between the values.\n",
    "\n",
    "# Fore more precision, the algorithm can be improvised by splitting the values based on terms inbetween every pair of points\n"
   ]
  },
  {
   "cell_type": "code",
   "execution_count": 158,
   "metadata": {},
   "outputs": [],
   "source": [
    "# the function returns best split value for a dataset based on Information Gain\n",
    "def get_best_fit_split(column_names, dataset):\n",
    "    column_name = column_names[0]\n",
    "    split_value = -999\n",
    "    maxWeightedEntropy = -999\n",
    "    for name in column_names:\n",
    "        for i in sorted(dataset[name]):\n",
    "            gini = []\n",
    "            entropy = []\n",
    "            weights = []\n",
    "            \n",
    "            left,right = test_split(name, i, dataset)\n",
    "            \n",
    "            weights.append(len(left))\n",
    "            weights.append(len(right))\n",
    "            \n",
    "            Left_T = len(left[left['highPriced'] == True])\n",
    "            Left_F = len(left[left['highPriced'] == False])\n",
    "            if Left_T is 0 and Left_F is 0:\n",
    "                continue\n",
    "            entropy.append(calcEntropy(Left_T, Left_F))\n",
    "            \n",
    "            Right_T = len(right[right['highPriced'] == True])\n",
    "            Right_F = len(right[right['highPriced'] == False])\n",
    "            if Right_T is 0 and Right_F is 0:\n",
    "                continue\n",
    "            entropy.append(calcEntropy(Right_T, Right_F))\n",
    "            \n",
    "            MaxEntropy = calcMaxEntropy('highPriced', boston_df)\n",
    "            WeightedEntropy = weightedSumEntropy(weights,entropy,MaxEntropy)\n",
    "            \n",
    "            if WeightedEntropy > maxWeightedEntropy:\n",
    "                column_name = name\n",
    "                split_value = i\n",
    "                maxWeightedEntropy = WeightedEntropy\n",
    "    \n",
    "    return column_name, split_value, maxWeightedEntropy "
   ]
  },
  {
   "cell_type": "code",
   "execution_count": 159,
   "metadata": {},
   "outputs": [],
   "source": [
    "# Building the decision tree with 2 levels based on entropy, using the RM, LSTAT, and RAD variables"
   ]
  },
  {
   "cell_type": "code",
   "execution_count": 160,
   "metadata": {},
   "outputs": [],
   "source": [
    "# function returns the root node of the tree\n",
    "def build_tree(column_names, dataset, tree_depth):\n",
    "    node = dict()\n",
    "    \n",
    "    if tree_depth is not 0:\n",
    "        if len(dataset['highPriced'].unique()) > 1:\n",
    "            column_name, cutoff, entropy = get_best_fit_split(column_names, dataset)\n",
    "            left, right = test_split(column_name, cutoff, dataset)\n",
    "        else:\n",
    "            entropy = calcMaxEntropy('highPriced', dataset)\n",
    "            left = None\n",
    "            right = None\n",
    "            cutoff = None\n",
    "            column_name = None\n",
    "        node = {'column_name': column_name, 'cutoff':cutoff, 'entropy': entropy, 'level': tree_depth, 'Dataset':dataset}\n",
    "        column_list.append(column_name)\n",
    "        level_list.append(tree_depth)\n",
    "        threshold_list.append(cutoff)\n",
    "        if left is not None and right is not None:\n",
    "            node['left'] = build_tree(column_names, left, tree_depth-1)\n",
    "            node['right'] = build_tree(column_names, right, tree_depth-1)\n",
    "        return node\n",
    "    else:\n",
    "        return None"
   ]
  },
  {
   "cell_type": "code",
   "execution_count": 161,
   "metadata": {},
   "outputs": [
    {
     "name": "stderr",
     "output_type": "stream",
     "text": [
      "C:\\Users\\sahan\\Anaconda3\\lib\\site-packages\\ipykernel_launcher.py:4: RuntimeWarning: divide by zero encountered in log2\n",
      "  after removing the cwd from sys.path.\n",
      "C:\\Users\\sahan\\Anaconda3\\lib\\site-packages\\ipykernel_launcher.py:4: RuntimeWarning: invalid value encountered in double_scalars\n",
      "  after removing the cwd from sys.path.\n"
     ]
    }
   ],
   "source": [
    "# building the 2 level decison tree \n",
    "column_list = []\n",
    "level_list = []\n",
    "threshold_list = []\n",
    "Root_node = build_tree(['RM', 'LSTAT','RAD'], boston_df, 2)"
   ]
  },
  {
   "cell_type": "code",
   "execution_count": 96,
   "metadata": {},
   "outputs": [
    {
     "data": {
      "text/plain": [
       "[1, 2, 2]"
      ]
     },
     "execution_count": 96,
     "metadata": {},
     "output_type": "execute_result"
    }
   ],
   "source": [
    "# Updating values of level\n",
    "level_list = [abs(x-2)+1 for x in level_list]\n",
    "level_list"
   ]
  },
  {
   "cell_type": "code",
   "execution_count": 162,
   "metadata": {},
   "outputs": [
    {
     "data": {
      "text/html": [
       "<div>\n",
       "<style scoped>\n",
       "    .dataframe tbody tr th:only-of-type {\n",
       "        vertical-align: middle;\n",
       "    }\n",
       "\n",
       "    .dataframe tbody tr th {\n",
       "        vertical-align: top;\n",
       "    }\n",
       "\n",
       "    .dataframe thead th {\n",
       "        text-align: right;\n",
       "    }\n",
       "</style>\n",
       "<table border=\"1\" class=\"dataframe\">\n",
       "  <thead>\n",
       "    <tr style=\"text-align: right;\">\n",
       "      <th></th>\n",
       "      <th>level</th>\n",
       "      <th>Column Name</th>\n",
       "      <th>Threshold</th>\n",
       "    </tr>\n",
       "  </thead>\n",
       "  <tbody>\n",
       "    <tr>\n",
       "      <td>0</td>\n",
       "      <td>2</td>\n",
       "      <td>RM</td>\n",
       "      <td>6.943</td>\n",
       "    </tr>\n",
       "    <tr>\n",
       "      <td>1</td>\n",
       "      <td>1</td>\n",
       "      <td>LSTAT</td>\n",
       "      <td>9.530</td>\n",
       "    </tr>\n",
       "    <tr>\n",
       "      <td>2</td>\n",
       "      <td>1</td>\n",
       "      <td>RM</td>\n",
       "      <td>7.420</td>\n",
       "    </tr>\n",
       "  </tbody>\n",
       "</table>\n",
       "</div>"
      ],
      "text/plain": [
       "   level Column Name  Threshold\n",
       "0      2          RM      6.943\n",
       "1      1       LSTAT      9.530\n",
       "2      1          RM      7.420"
      ]
     },
     "execution_count": 162,
     "metadata": {},
     "output_type": "execute_result"
    }
   ],
   "source": [
    "# Tree information: Level, Column Name and Threshold of split\n",
    "tree_df = pd.DataFrame({'level':level_list, 'Column Name': column_list, 'Threshold': threshold_list})\n",
    "tree_df"
   ]
  },
  {
   "cell_type": "code",
   "execution_count": 163,
   "metadata": {},
   "outputs": [
    {
     "data": {
      "image/png": "[encoded data removed]",
      "text/plain": [
       "<Figure size 432x288 with 1 Axes>"
      ]
     },
     "metadata": {
      "needs_background": "light"
     },
     "output_type": "display_data"
    }
   ],
   "source": [
    "# Visualize your splits on an X-Y plane.\n",
    "plt.scatter(boston_df['RM'], boston_df['LSTAT'], c=boston_df['highPriced'])\n",
    "plt.title('Visualization')\n",
    "# RM on X axis\n",
    "plt.xlabel('RM')\n",
    "# LSTAT on Y axis\n",
    "plt.ylabel('LSTAT')\n",
    "# Vertical line representing first split i.e RM = 6.94\n",
    "plt.axvline(x = 6.94,color='black')\n",
    "# Horizontal line representing second split i.e LSTAT = 9.53\n",
    "plt.hlines(y = 9.53, xmin=0, xmax=6.94,color='black')\n",
    "# Vertical line representing second split i.e RM = 7.42\n",
    "plt.axvline(x = 7.42,color='black')\n",
    "plt.show()\n"
   ]
  },
  {
   "cell_type": "code",
   "execution_count": 164,
   "metadata": {},
   "outputs": [],
   "source": [
    "# Values in purple represent False and Yellow represwnt True\n",
    "# the lines are drwn based on the split values of RM and LSTAT"
   ]
  },
  {
   "cell_type": "markdown",
   "metadata": {},
   "source": [
    "### Part 3: Making predictions"
   ]
  },
  {
   "cell_type": "code",
   "execution_count": 165,
   "metadata": {},
   "outputs": [],
   "source": [
    "#splitting every 5th row into testing set\n",
    "training_df = boston_df[boston_df.index % 5 != 0]  \n",
    "testing_df = boston_df[boston_df.index % 5 == 0]  "
   ]
  },
  {
   "cell_type": "code",
   "execution_count": 166,
   "metadata": {},
   "outputs": [
    {
     "data": {
      "text/plain": [
       "count       404\n",
       "unique        2\n",
       "top       False\n",
       "freq        363\n",
       "Name: highPriced, dtype: object"
      ]
     },
     "execution_count": 166,
     "metadata": {},
     "output_type": "execute_result"
    }
   ],
   "source": [
    "training_df.describe()\n",
    "# There are 404 Training observations \n",
    "training_df['highPriced'].describe()\n",
    "# the training set target values have majority of False values , i.e 363 out of 404"
   ]
  },
  {
   "cell_type": "code",
   "execution_count": 167,
   "metadata": {
    "scrolled": true
   },
   "outputs": [
    {
     "data": {
      "text/plain": [
       "count       102\n",
       "unique        2\n",
       "top       False\n",
       "freq         95\n",
       "Name: highPriced, dtype: object"
      ]
     },
     "execution_count": 167,
     "metadata": {},
     "output_type": "execute_result"
    }
   ],
   "source": [
    "testing_df.describe()\n",
    "# there are 102 testing observations\n",
    "testing_df['highPriced'].describe()\n",
    "# the testing set target values have majority of False values , i.e 95 out of 102\n",
    "# the distribution of the target variable looks simialr in both training and testing set"
   ]
  },
  {
   "cell_type": "code",
   "execution_count": 168,
   "metadata": {},
   "outputs": [
    {
     "name": "stdout",
     "output_type": "stream",
     "text": [
      "0.8921568627450981\n"
     ]
    }
   ],
   "source": [
    "# Random sampling by replacement from the entire Trainig set to predict values for Test set\n",
    "RandomPredictedValues = training_df['highPriced'].sample(n=len(testing_df), replace=True).tolist()\n",
    "# Accuracy of the prediction based on sampling varies in the range 80 - 95 % for each execution\n",
    "accuracy1 = accuracy_score(testing_df.get('highPriced'), RandomPredictedValues)\n",
    "print(accuracy1)"
   ]
  },
  {
   "cell_type": "code",
   "execution_count": 169,
   "metadata": {},
   "outputs": [
    {
     "name": "stdout",
     "output_type": "stream",
     "text": [
      "              precision    recall  f1-score   support\n",
      "\n",
      "       False       0.93      0.96      0.94        95\n",
      "        True       0.00      0.00      0.00         7\n",
      "\n",
      "    accuracy                           0.89       102\n",
      "   macro avg       0.46      0.48      0.47       102\n",
      "weighted avg       0.86      0.89      0.88       102\n",
      "\n"
     ]
    }
   ],
   "source": [
    "# To evaluate classification based on precision and recall  \n",
    "print(classification_report(testing_df.get('highPriced'), RandomPredictedValues))"
   ]
  },
  {
   "cell_type": "code",
   "execution_count": 170,
   "metadata": {},
   "outputs": [],
   "source": [
    "# functiont to calculate probablity of each class in the node \n",
    "def leaf_node_probablity(dataset, column_name):\n",
    "    prob = []\n",
    "    class_values = dataset[column_name].unique()\n",
    "    for val in class_values:\n",
    "        prob.append(len(dataset[dataset[column_name]==val])/len(dataset))\n",
    "    return prob"
   ]
  },
  {
   "cell_type": "code",
   "execution_count": 171,
   "metadata": {},
   "outputs": [],
   "source": [
    "# function to predict values based on the Tree built from Training set\n",
    "def predict_values(column_names, train, test, max_depth):\n",
    "    tree = build_tree(column_names, train, max_depth+1)\n",
    "    predictions = list()\n",
    "    probablities = []\n",
    "    for i,row in test.iterrows():\n",
    "        prediction, node_probablity = get_prediction(tree, row)\n",
    "        predictions.append(prediction)\n",
    "        probablities.append(node_probablity)\n",
    "    return predictions, probablities"
   ]
  },
  {
   "cell_type": "code",
   "execution_count": 172,
   "metadata": {},
   "outputs": [],
   "source": [
    "# function used to traverse through the Tree to reach leaf node\n",
    "# On reaching leaf node, sandom samples are selected from the leaf node values\n",
    "def get_prediction(tree, row):\n",
    "    while tree is not None and tree.get('cutoff'): \n",
    "        column_name = tree['column_name']\n",
    "        value = row[column_name]\n",
    "        random_row = tree['Dataset']['highPriced'].sample().tolist()\n",
    "        node_probablity = leaf_node_probablity(tree['Dataset'],'highPriced')\n",
    "        if entropy != 0:\n",
    "            if value < tree['cutoff']:   # get the direction \n",
    "                tree = tree['left']\n",
    "            else:\n",
    "                tree = tree['right']\n",
    "    return random_row[0], node_probablity"
   ]
  },
  {
   "cell_type": "code",
   "execution_count": 173,
   "metadata": {},
   "outputs": [
    {
     "name": "stderr",
     "output_type": "stream",
     "text": [
      "C:\\Users\\sahan\\Anaconda3\\lib\\site-packages\\ipykernel_launcher.py:4: RuntimeWarning: divide by zero encountered in log2\n",
      "  after removing the cwd from sys.path.\n",
      "C:\\Users\\sahan\\Anaconda3\\lib\\site-packages\\ipykernel_launcher.py:4: RuntimeWarning: invalid value encountered in double_scalars\n",
      "  after removing the cwd from sys.path.\n"
     ]
    },
    {
     "data": {
      "text/html": [
       "<div>\n",
       "<style scoped>\n",
       "    .dataframe tbody tr th:only-of-type {\n",
       "        vertical-align: middle;\n",
       "    }\n",
       "\n",
       "    .dataframe tbody tr th {\n",
       "        vertical-align: top;\n",
       "    }\n",
       "\n",
       "    .dataframe thead th {\n",
       "        text-align: right;\n",
       "    }\n",
       "</style>\n",
       "<table border=\"1\" class=\"dataframe\">\n",
       "  <thead>\n",
       "    <tr style=\"text-align: right;\">\n",
       "      <th></th>\n",
       "      <th>level</th>\n",
       "      <th>Column Name</th>\n",
       "      <th>Threshold</th>\n",
       "    </tr>\n",
       "  </thead>\n",
       "  <tbody>\n",
       "    <tr>\n",
       "      <td>0</td>\n",
       "      <td>2</td>\n",
       "      <td>RM</td>\n",
       "      <td>7.147</td>\n",
       "    </tr>\n",
       "    <tr>\n",
       "      <td>1</td>\n",
       "      <td>1</td>\n",
       "      <td>LSTAT</td>\n",
       "      <td>9.530</td>\n",
       "    </tr>\n",
       "    <tr>\n",
       "      <td>2</td>\n",
       "      <td>1</td>\n",
       "      <td>RM</td>\n",
       "      <td>7.420</td>\n",
       "    </tr>\n",
       "  </tbody>\n",
       "</table>\n",
       "</div>"
      ],
      "text/plain": [
       "   level Column Name  Threshold\n",
       "0      2          RM      7.147\n",
       "1      1       LSTAT      9.530\n",
       "2      1          RM      7.420"
      ]
     },
     "execution_count": 173,
     "metadata": {},
     "output_type": "execute_result"
    }
   ],
   "source": [
    "# using a 2-level decision tree to make predictions with only the RM and LSTAT variables\n",
    "column_list = []\n",
    "level_list = []\n",
    "threshold_list = []\n",
    "node_probablities = []\n",
    "\n",
    "predictions, node_probablities = predict_values(['RM','LSTAT'],training_df, testing_df, 1)\n",
    "\n",
    "# Updating values of level\n",
    "level_list = [abs(x-1)+1 for x in level_list]\n",
    "level_list\n",
    "\n",
    "# Tree information: Level, Column Name and Threshold of split\n",
    "tree_df = pd.DataFrame({'level':level_list, 'Column Name': column_list, 'Threshold': threshold_list})\n",
    "tree_df"
   ]
  },
  {
   "cell_type": "code",
   "execution_count": 174,
   "metadata": {},
   "outputs": [
    {
     "data": {
      "text/plain": [
       "array([[0.31111111, 0.68888889],\n",
       "       [0.97486034, 0.02513966]])"
      ]
     },
     "execution_count": 174,
     "metadata": {},
     "output_type": "execute_result"
    }
   ],
   "source": [
    "# probablities from leaf nodes\n",
    "np.unique(node_probablities, axis=0)"
   ]
  },
  {
   "cell_type": "code",
   "execution_count": 175,
   "metadata": {},
   "outputs": [
    {
     "data": {
      "text/plain": [
       "0.9117647058823529"
      ]
     },
     "execution_count": 175,
     "metadata": {},
     "output_type": "execute_result"
    }
   ],
   "source": [
    "accuracy2 = accuracy_score(testing_df.get('highPriced'), predictions)\n",
    "accuracy2"
   ]
  },
  {
   "cell_type": "code",
   "execution_count": 176,
   "metadata": {},
   "outputs": [
    {
     "name": "stdout",
     "output_type": "stream",
     "text": [
      "              precision    recall  f1-score   support\n",
      "\n",
      "       False       0.96      0.95      0.95        95\n",
      "        True       0.38      0.43      0.40         7\n",
      "\n",
      "    accuracy                           0.91       102\n",
      "   macro avg       0.67      0.69      0.68       102\n",
      "weighted avg       0.92      0.91      0.91       102\n",
      "\n"
     ]
    }
   ],
   "source": [
    "# To evaluate classification based on precision and recall  \n",
    "print(classification_report(testing_df.get('highPriced'), predictions))"
   ]
  },
  {
   "cell_type": "code",
   "execution_count": 177,
   "metadata": {},
   "outputs": [],
   "source": [
    "# The prediction using the decision tree has higher accuracy than the Random prediction from the entirety of the dataset"
   ]
  },
  {
   "cell_type": "markdown",
   "metadata": {},
   "source": [
    "### Part 4: Comparing to out-of-the-box classiers"
   ]
  },
  {
   "cell_type": "code",
   "execution_count": 178,
   "metadata": {},
   "outputs": [
    {
     "name": "stdout",
     "output_type": "stream",
     "text": [
      "|--- RM <= 7.13\n",
      "|   |--- LSTAT <= 5.12\n",
      "|   |   |--- class: False\n",
      "|   |--- LSTAT >  5.12\n",
      "|   |   |--- class: False\n",
      "|--- RM >  7.13\n",
      "|   |--- RM <= 7.44\n",
      "|   |   |--- class: False\n",
      "|   |--- RM >  7.44\n",
      "|   |   |--- class: True\n",
      "\n"
     ]
    }
   ],
   "source": [
    "#Using sklearn's DecisionTreeClassier\n",
    "feature_cols = ['RM', 'LSTAT' ]\n",
    "X_train = training_df[feature_cols]\n",
    "X_test = testing_df[feature_cols]\n",
    "\n",
    "# target/ class labels\n",
    "y_train = training_df['highPriced']\n",
    "y_test = testing_df['highPriced']\n",
    "\n",
    "target_names = [True, False]\n",
    "\n",
    "# Creating Decision Tree classifer model with max depth 2 \n",
    "decision_tree_2 = tree.DecisionTreeClassifier(criterion = 'entropy', max_depth=2)\n",
    "clf = decision_tree_2.fit(X_train,y_train)\n",
    "y_pred = clf.predict(X_test)\n",
    "r = export_text(clf, feature_names=feature_cols)\n",
    "print(r)"
   ]
  },
  {
   "cell_type": "code",
   "execution_count": 179,
   "metadata": {},
   "outputs": [
    {
     "data": {
      "text/plain": [
       "0.9705882352941176"
      ]
     },
     "execution_count": 179,
     "metadata": {},
     "output_type": "execute_result"
    }
   ],
   "source": [
    "# Calculating accuracy of DecisionTreeClassier\n",
    "accuracy3 = accuracy_score(testing_df.get('highPriced'), y_pred)\n",
    "accuracy3"
   ]
  },
  {
   "cell_type": "code",
   "execution_count": 180,
   "metadata": {},
   "outputs": [
    {
     "data": {
      "text/plain": [
       "array([[0.03846154, 0.96153846],\n",
       "       [0.65      , 0.35      ],\n",
       "       [0.77777778, 0.22222222],\n",
       "       [0.99093656, 0.00906344]])"
      ]
     },
     "execution_count": 180,
     "metadata": {},
     "output_type": "execute_result"
    }
   ],
   "source": [
    "# probablities at leaf node of the decision tree\n",
    "np.unique(decision_tree_2.predict_proba(X_test),axis=0)"
   ]
  },
  {
   "cell_type": "code",
   "execution_count": 181,
   "metadata": {},
   "outputs": [
    {
     "name": "stdout",
     "output_type": "stream",
     "text": [
      "              precision    recall  f1-score   support\n",
      "\n",
      "       False       0.97      1.00      0.98        95\n",
      "        True       1.00      0.57      0.73         7\n",
      "\n",
      "    accuracy                           0.97       102\n",
      "   macro avg       0.98      0.79      0.86       102\n",
      "weighted avg       0.97      0.97      0.97       102\n",
      "\n"
     ]
    }
   ],
   "source": [
    "# To evaluate classification based on precision and recall  \n",
    "print(classification_report(y_test, y_pred))"
   ]
  },
  {
   "cell_type": "code",
   "execution_count": 182,
   "metadata": {
    "scrolled": true
   },
   "outputs": [],
   "source": [
    "# The probablities obtained for the leaf nodes are very close to the probablities from the decision tree in 12th question\n",
    "# The split values or cutOff for each node are also similarly very close"
   ]
  },
  {
   "cell_type": "code",
   "execution_count": 183,
   "metadata": {},
   "outputs": [],
   "source": [
    "# Using sklearn's BaggingClassier\n",
    "from sklearn import model_selection \n",
    "from sklearn.ensemble import BaggingClassifier "
   ]
  },
  {
   "cell_type": "code",
   "execution_count": 184,
   "metadata": {},
   "outputs": [
    {
     "name": "stdout",
     "output_type": "stream",
     "text": [
      "accuracy of BaggingClassifier :\n",
      "0.9233646581905287\n"
     ]
    }
   ],
   "source": [
    "seed = 8\n",
    "kfold = model_selection.KFold(n_splits = 3, random_state = seed) \n",
    "  \n",
    "# DecisionTreeClassifier as the base classifier \n",
    "base_cls = DecisionTreeClassifier() \n",
    "  \n",
    "# no. of base classifier \n",
    "num_trees = 500\n",
    "  \n",
    "# bagging classifier \n",
    "BaggingClassifiermodel = BaggingClassifier(base_estimator = base_cls, \n",
    "                          n_estimators = num_trees, \n",
    "                          random_state = seed) \n",
    "  \n",
    "results = model_selection.cross_val_score(BaggingClassifiermodel, X_train, y_train, cv = kfold) \n",
    "print(\"accuracy of BaggingClassifier :\") \n",
    "print(results.mean()) \n"
   ]
  },
  {
   "cell_type": "code",
   "execution_count": 185,
   "metadata": {},
   "outputs": [],
   "source": [
    "# the accuracy of the BaggingClassifier is lesser than the DecisionTreeClassier"
   ]
  },
  {
   "cell_type": "code",
   "execution_count": 186,
   "metadata": {},
   "outputs": [
    {
     "data": {
      "text/plain": [
       "0.9607843137254902"
      ]
     },
     "execution_count": 186,
     "metadata": {},
     "output_type": "execute_result"
    }
   ],
   "source": [
    "from sklearn.ensemble import RandomForestClassifier\n",
    "\n",
    "#Create a Random Forest Classifier\n",
    "RandomForestClassifierModel=RandomForestClassifier(n_estimators=100)\n",
    "\n",
    "#Train the model \n",
    "Rclf = RandomForestClassifierModel.fit(X_train,y_train)\n",
    "# Making predictions\n",
    "Predictions=Rclf.predict(X_test)\n",
    "# Calculating accuracy of DecisionTreeClassier\n",
    "Model_accuracy = accuracy_score(y_test, Predictions)\n",
    "Model_accuracy"
   ]
  },
  {
   "cell_type": "code",
   "execution_count": 187,
   "metadata": {},
   "outputs": [],
   "source": [
    "# the accuracy of the RandomForestClassifier is definitely higher then the both BaggingClassifier and DecisionTreeClassier"
   ]
  },
  {
   "cell_type": "code",
   "execution_count": 188,
   "metadata": {},
   "outputs": [
    {
     "name": "stdout",
     "output_type": "stream",
     "text": [
      "              precision    recall  f1-score   support\n",
      "\n",
      "       False       0.98      0.98      0.98        95\n",
      "        True       0.71      0.71      0.71         7\n",
      "\n",
      "    accuracy                           0.96       102\n",
      "   macro avg       0.85      0.85      0.85       102\n",
      "weighted avg       0.96      0.96      0.96       102\n",
      "\n"
     ]
    }
   ],
   "source": [
    "# To evaluate classification based on precision and recall  \n",
    "print(classification_report(y_test, Predictions))"
   ]
  },
  {
   "cell_type": "code",
   "execution_count": null,
   "metadata": {},
   "outputs": [],
   "source": []
  }
 ],
 "metadata": {
  "kernelspec": {
   "display_name": "Python 3",
   "language": "python",
   "name": "python3"
  },
  "language_info": {
   "codemirror_mode": {
    "name": "ipython",
    "version": 3
   },
   "file_extension": ".py",
   "mimetype": "text/x-python",
   "name": "python",
   "nbconvert_exporter": "python",
   "pygments_lexer": "ipython3",
   "version": "3.7.4"
  }
 },
 "nbformat": 4,
 "nbformat_minor": 2
}
